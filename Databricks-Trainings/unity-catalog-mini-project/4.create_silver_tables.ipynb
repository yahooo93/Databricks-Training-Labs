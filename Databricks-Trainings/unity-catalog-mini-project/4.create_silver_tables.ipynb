{
 "cells": [
  {
   "cell_type": "code",
   "execution_count": 0,
   "metadata": {
    "application/vnd.databricks.v1+cell": {
     "cellMetadata": {
      "byteLimit": 2048000,
      "rowLimit": 10000
     },
     "inputWidgets": {},
     "nuid": "28e4e5f8-433d-48a2-8d10-7208f38921a8",
     "showTitle": false,
     "tableResultSettingsMap": {},
     "title": ""
    }
   },
   "outputs": [],
   "source": [
    "DROP TABLE IF EXISTS formula1_dev.silver.drivers;\n",
    "\n",
    "CREATE TABLE IF NOT EXISTS formula1_dev.silver.drivers AS\n",
    "SELECT driverId as driver_id,\n",
    "        driverRef As driver_ref,\n",
    "        number,\n",
    "        code,\n",
    "        concat(name.forename, ' ', name.surname) AS name,\n",
    "        dob,\n",
    "        nationality,\n",
    "        current_timestamp() AS ingestion_date\n",
    "FROM formula1_dev.bronze.drivers;"
   ]
  },
  {
   "cell_type": "code",
   "execution_count": 0,
   "metadata": {
    "application/vnd.databricks.v1+cell": {
     "cellMetadata": {
      "byteLimit": 2048000,
      "rowLimit": 10000
     },
     "inputWidgets": {},
     "nuid": "ab12ec4a-9e5f-4996-8802-5aef864211ae",
     "showTitle": false,
     "tableResultSettingsMap": {},
     "title": ""
    }
   },
   "outputs": [],
   "source": [
    "DROP TABLE IF EXISTS formula1_dev.silver.results;\n",
    "\n",
    "CREATE TABLE IF NOT EXISTS formula1_dev.silver.results AS\n",
    "SELECT resultId as result_id,\n",
    "        raceId As race_id,\n",
    "        driverId as driver_id,\n",
    "        constructorId as constructor_id,\n",
    "        number,\n",
    "        grid,\n",
    "        position,\n",
    "        positionText,\n",
    "        positionOrder,\n",
    "        points,\n",
    "        laps,\n",
    "        time,\n",
    "        miliseconds,\n",
    "        fastestLap fastest_lap,\n",
    "        rank,\n",
    "        fastestLapTime as fastest_lap_time,\n",
    "        fastestLapSpeed as fastest_lap_speed,\n",
    "        statusId as status_id,\n",
    "        current_timestamp() as ingestion_date\n",
    "FROM formula1_dev.bronze.results;"
   ]
  }
 ],
 "metadata": {
  "application/vnd.databricks.v1+notebook": {
   "computePreferences": null,
   "dashboards": [],
   "environmentMetadata": {
    "base_environment": "",
    "environment_version": "2"
   },
   "inputWidgetPreferences": null,
   "language": "sql",
   "notebookMetadata": {
    "pythonIndentUnit": 2
   },
   "notebookName": "4.create_silver_tables",
   "widgets": {}
  },
  "language_info": {
   "name": "sql"
  }
 },
 "nbformat": 4,
 "nbformat_minor": 0
}
