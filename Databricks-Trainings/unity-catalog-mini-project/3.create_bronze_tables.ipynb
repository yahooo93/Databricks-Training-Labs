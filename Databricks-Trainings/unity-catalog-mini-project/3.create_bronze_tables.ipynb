{
 "cells": [
  {
   "cell_type": "code",
   "execution_count": 0,
   "metadata": {
    "application/vnd.databricks.v1+cell": {
     "cellMetadata": {
      "byteLimit": 2048000,
      "rowLimit": 10000
     },
     "inputWidgets": {},
     "nuid": "1247f024-cdb3-414a-b8ea-d0de0ae58b3e",
     "showTitle": false,
     "tableResultSettingsMap": {},
     "title": ""
    }
   },
   "outputs": [],
   "source": [
    "DROP TABLE IF EXISTS formula1dev.bronze.drivers;\n",
    "\n",
    "CREATE TABLE IF NOT EXISTS formula1_dev.bronze.drivers\n",
    "(\n",
    "driverId INT,\n",
    "driverRef STRING,\n",
    "number INT,\n",
    "code STRING,\n",
    "name STRUCT<forename:STRING, surname:STRING>,\n",
    "dob DATE,\n",
    "nationality STRING,\n",
    "url STRING\n",
    ")\n",
    "USING json\n",
    "OPTIONS (path \"abfss://bronze@ucformula10912extdl.dfs.core.windows.net/drivers.json\");"
   ]
  },
  {
   "cell_type": "code",
   "execution_count": 0,
   "metadata": {
    "application/vnd.databricks.v1+cell": {
     "cellMetadata": {
      "byteLimit": 2048000,
      "rowLimit": 10000
     },
     "inputWidgets": {},
     "nuid": "4d203b2b-e85d-4a0a-a49e-d1c1d844f549",
     "showTitle": false,
     "tableResultSettingsMap": {},
     "title": ""
    }
   },
   "outputs": [],
   "source": [
    "DROP TABLE IF EXISTS formula1_dev.bronze.results;\n",
    "\n",
    "CREATE TABLE IF NOT EXISTS formula1_dev.bronze.results\n",
    "(\n",
    "resultId INT,\n",
    "raceID INT,\n",
    "driverId INT,\n",
    "constructorId INT,\n",
    "number INT,\n",
    "grid INT,\n",
    "position INT,\n",
    "positionText STRING,\n",
    "positionOrder INT,\n",
    "points INT,\n",
    "laps INT,\n",
    "time STRING,\n",
    "miliseconds INT,\n",
    "fastestLap INT,\n",
    "rank INT,\n",
    "fastestLapTime STRING,\n",
    "fastestLapSpeed STRING,\n",
    "statusID STRING\n",
    ")\n",
    "USING json\n",
    "OPTIONS (path \"abfss://bronze@ucformula10912extdl.dfs.core.windows.net/results.json\");"
   ]
  },
  {
   "cell_type": "code",
   "execution_count": 0,
   "metadata": {
    "application/vnd.databricks.v1+cell": {
     "cellMetadata": {
      "byteLimit": 2048000,
      "rowLimit": 10000
     },
     "inputWidgets": {},
     "nuid": "ba2b813d-f098-4ede-88b7-e8bf4b5c422c",
     "showTitle": false,
     "tableResultSettingsMap": {},
     "title": ""
    }
   },
   "outputs": [],
   "source": [
    "select * from formula1_dev.bronze.results"
   ]
  },
  {
   "cell_type": "code",
   "execution_count": 0,
   "metadata": {
    "application/vnd.databricks.v1+cell": {
     "cellMetadata": {},
     "inputWidgets": {},
     "nuid": "8e50128a-0a5c-4749-925b-988cec296001",
     "showTitle": false,
     "tableResultSettingsMap": {},
     "title": ""
    }
   },
   "outputs": [],
   "source": []
  }
 ],
 "metadata": {
  "application/vnd.databricks.v1+notebook": {
   "computePreferences": null,
   "dashboards": [],
   "environmentMetadata": {
    "base_environment": "",
    "environment_version": "2"
   },
   "inputWidgetPreferences": null,
   "language": "sql",
   "notebookMetadata": {
    "pythonIndentUnit": 4
   },
   "notebookName": "3.create_bronze_tables",
   "widgets": {}
  },
  "language_info": {
   "name": "sql"
  }
 },
 "nbformat": 4,
 "nbformat_minor": 0
}
