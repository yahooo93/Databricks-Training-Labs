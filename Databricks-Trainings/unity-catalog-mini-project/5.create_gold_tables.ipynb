{
 "cells": [
  {
   "cell_type": "code",
   "execution_count": 0,
   "metadata": {
    "application/vnd.databricks.v1+cell": {
     "cellMetadata": {
      "byteLimit": 2048000,
      "rowLimit": 10000
     },
     "inputWidgets": {},
     "nuid": "875ab7d7-b768-4b86-bdcc-1687de945150",
     "showTitle": false,
     "tableResultSettingsMap": {},
     "title": ""
    }
   },
   "outputs": [],
   "source": [
    "DROP TABLE IF EXISTS formula1_dev.gold.driver_wins;\n",
    "\n",
    "CREATE TABLE formula1_dev.gold.driver_wins\n",
    "AS\n",
    "SELECT d.name, count(1) AS number_of_wins\n",
    "FROM formula1_dev.silver.drivers d\n",
    "JOIN formula1_dev.silver.results r\n",
    "  ON (d.driver_id = r.driver_id)\n",
    "WHERE r.position = 1\n",
    "GROUP BY d.name;"
   ]
  },
  {
   "cell_type": "code",
   "execution_count": 0,
   "metadata": {
    "application/vnd.databricks.v1+cell": {
     "cellMetadata": {},
     "inputWidgets": {},
     "nuid": "6042ae8b-3dca-4597-a3bf-85f32f4b2b8f",
     "showTitle": false,
     "tableResultSettingsMap": {},
     "title": ""
    }
   },
   "outputs": [],
   "source": []
  }
 ],
 "metadata": {
  "application/vnd.databricks.v1+notebook": {
   "computePreferences": null,
   "dashboards": [],
   "environmentMetadata": {
    "base_environment": "",
    "environment_version": "2"
   },
   "inputWidgetPreferences": null,
   "language": "sql",
   "notebookMetadata": {
    "pythonIndentUnit": 2
   },
   "notebookName": "5.create_gold_tables",
   "widgets": {}
  },
  "language_info": {
   "name": "sql"
  }
 },
 "nbformat": 4,
 "nbformat_minor": 0
}
